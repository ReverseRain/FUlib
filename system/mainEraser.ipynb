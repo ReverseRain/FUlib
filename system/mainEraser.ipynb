{
 "cells": [
  {
   "cell_type": "code",
   "id": "initial_id",
   "metadata": {
    "collapsed": true,
    "ExecuteTime": {
     "end_time": "2025-03-29T15:10:02.413153Z",
     "start_time": "2025-03-29T15:10:02.393081Z"
    }
   },
   "source": [
    "# main.py\n",
    "import torch\n",
    "import numpy as np\n",
    "from system.flcore.clients.clientEraser import Client\n",
    "from system.flcore.servers.servereraser import Server\n",
    "from system.utils.data_preprocess import *\n",
    "from system.utils.model_initiation import *\n",
    "\n",
    "class Args:\n",
    "    def __init__(self):\n",
    "        self.N_total_client = 100\n",
    "        self.N_client = 10\n",
    "        self.global_epoch = 20\n",
    "        self.local_epoch = 5\n",
    "        self.local_batch_size = 64\n",
    "        self.local_lr = 0.01\n",
    "        self.test_batch_size = 128\n",
    "        self.cuda_state = torch.cuda.is_available()\n",
    "        self.data_name = 'mnist'\n",
    "        self.seed = 42\n",
    "        "
   ],
   "outputs": [],
   "execution_count": 21
  },
  {
   "metadata": {
    "ExecuteTime": {
     "end_time": "2025-03-29T15:10:02.746187Z",
     "start_time": "2025-03-29T15:10:02.417151Z"
    }
   },
   "cell_type": "code",
   "source": [
    "args = Args()\n",
    "torch.manual_seed(args.seed)\n",
    "# 使用 data_init 加载数据\n",
    "client_loaders, test_loader = data_init(args)\n",
    "# 初始化模型\n",
    "global_model = model_init(args.data_name)\n",
    "# 初始化客户端\n",
    "clients = []\n",
    "for i in range(args.N_total_client):\n",
    "    model_copy = model_init(args.data_name)\n",
    "    clients.append(Client(i, model_copy, client_loaders[i], args))\n",
    "# 创建服务器\n",
    "server = Server(global_model, clients, test_loader, args)\n"
   ],
   "id": "b46f0b8820d51195",
   "outputs": [],
   "execution_count": 22
  },
  {
   "metadata": {
    "ExecuteTime": {
     "end_time": "2025-03-29T15:15:22.777745Z",
     "start_time": "2025-03-29T15:10:02.764187Z"
    }
   },
   "cell_type": "code",
   "source": [
    "# 联邦训练主循环\n",
    "for round in range(args.global_epoch):\n",
    "    print(f\"\\n--- Global Round {round+1} ---\")\n",
    "    selected_clients = np.random.choice(clients, args.N_client, replace=False)\n",
    "\n",
    "    server.distribute_model(selected_clients)\n",
    "    for client in selected_clients:\n",
    "        client.train()\n",
    "\n",
    "    server.aggregate_models(selected_clients)\n",
    "    server.evaluate()"
   ],
   "id": "9557149205cd72e8",
   "outputs": [
    {
     "name": "stdout",
     "output_type": "stream",
     "text": [
      "\n",
      "--- Global Round 1 ---\n",
      "[Server] Test Accuracy: 0.6548\n",
      "\n",
      "--- Global Round 2 ---\n",
      "[Server] Test Accuracy: 0.8119\n",
      "\n",
      "--- Global Round 3 ---\n",
      "[Server] Test Accuracy: 0.8606\n",
      "\n",
      "--- Global Round 4 ---\n",
      "[Server] Test Accuracy: 0.8846\n",
      "\n",
      "--- Global Round 5 ---\n",
      "[Server] Test Accuracy: 0.8988\n",
      "\n",
      "--- Global Round 6 ---\n",
      "[Server] Test Accuracy: 0.9090\n",
      "\n",
      "--- Global Round 7 ---\n",
      "[Server] Test Accuracy: 0.9193\n",
      "\n",
      "--- Global Round 8 ---\n",
      "[Server] Test Accuracy: 0.9205\n",
      "\n",
      "--- Global Round 9 ---\n",
      "[Server] Test Accuracy: 0.9313\n",
      "\n",
      "--- Global Round 10 ---\n",
      "[Server] Test Accuracy: 0.9373\n",
      "\n",
      "--- Global Round 11 ---\n",
      "[Server] Test Accuracy: 0.9404\n",
      "\n",
      "--- Global Round 12 ---\n",
      "[Server] Test Accuracy: 0.9441\n",
      "\n",
      "--- Global Round 13 ---\n",
      "[Server] Test Accuracy: 0.9483\n",
      "\n",
      "--- Global Round 14 ---\n",
      "[Server] Test Accuracy: 0.9507\n",
      "\n",
      "--- Global Round 15 ---\n",
      "[Server] Test Accuracy: 0.9537\n",
      "\n",
      "--- Global Round 16 ---\n",
      "[Server] Test Accuracy: 0.9545\n",
      "\n",
      "--- Global Round 17 ---\n",
      "[Server] Test Accuracy: 0.9547\n",
      "\n",
      "--- Global Round 18 ---\n",
      "[Server] Test Accuracy: 0.9577\n",
      "\n",
      "--- Global Round 19 ---\n",
      "[Server] Test Accuracy: 0.9599\n",
      "\n",
      "--- Global Round 20 ---\n",
      "[Server] Test Accuracy: 0.9625\n"
     ]
    }
   ],
   "execution_count": 23
  },
  {
   "metadata": {},
   "cell_type": "code",
   "outputs": [],
   "execution_count": null,
   "source": [
    "def fed_unlearning(global_models, client_models, forget_client_idx, FL_params):\n",
    "    \"\"\"\n",
    "    FedEraser 遗忘：从训练轨迹中移除指定客户端的影响\n",
    "    global_models: List[global_model_t] 每一轮的全局模型\n",
    "    client_models: List[client_model_i_t] 所有客户端每轮模型（顺序：轮数 * 客户端数量）\n",
    "    \"\"\"\n",
    "    num_clients = FL_params.N_client\n",
    "    global_model = copy.deepcopy(global_models[-1])  # 当前模型\n",
    "    device = torch.device(\"cuda\" if FL_params.use_gpu else \"cpu\")\n",
    "    global_model.to(device)\n",
    "\n",
    "    for t in range(FL_params.global_epoch):\n",
    "        # 当前轮中，被遗忘客户端的模型参数\n",
    "        idx = t * num_clients + forget_client_idx\n",
    "        delta = {}\n",
    "\n",
    "        for name, param in global_model.named_parameters():\n",
    "            param.data = param.data.clone()\n",
    "\n",
    "            # 获取对应轮次全局模型和被遗忘客户端模型\n",
    "            global_param_prev = global_models[t].state_dict()[name].to(device)\n",
    "            client_param = client_models[idx].state_dict()[name].to(device)\n",
    "\n",
    "            # 差值传播公式：从全局模型中移除该客户端对模型的贡献\n",
    "            delta[name] = global_param_prev - client_param\n",
    "            param.data += delta[name] / num_clients  # 反向加回被移除的那份\n",
    "\n",
    "    print(f\"[FedEraser] 已移除 Client {forget_client_idx} 的影响。\")\n",
    "    return global_model.cpu()\n"
   ],
   "id": "680bba50fdcb6044"
  }
 ],
 "metadata": {
  "kernelspec": {
   "display_name": "Python 3",
   "language": "python",
   "name": "python3"
  },
  "language_info": {
   "codemirror_mode": {
    "name": "ipython",
    "version": 2
   },
   "file_extension": ".py",
   "mimetype": "text/x-python",
   "name": "python",
   "nbconvert_exporter": "python",
   "pygments_lexer": "ipython2",
   "version": "2.7.6"
  }
 },
 "nbformat": 4,
 "nbformat_minor": 5
}
