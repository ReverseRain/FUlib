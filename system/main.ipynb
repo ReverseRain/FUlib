{
 "cells": [
  {
   "cell_type": "code",
   "execution_count": null,
   "metadata": {},
   "outputs": [],
   "source": [
    "! python main.py -data Cifar100 -m cnn -algo FedEE -gr 5 -did 0 -nb 100 -uc 1 -nc 2"
   ]
  }
 ],
 "metadata": {
  "kernelspec": {
   "display_name": "pfllib",
   "language": "python",
   "name": "python3"
  },
  "language_info": {
   "name": "python",
   "version": "3.12.0"
  }
 },
 "nbformat": 4,
 "nbformat_minor": 2
}
